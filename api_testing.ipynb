{
 "cells": [
  {
   "cell_type": "code",
   "execution_count": 1,
   "id": "07f5623b",
   "metadata": {},
   "outputs": [],
   "source": [
    "import os\n",
    "from dotenv import load_dotenv\n",
    "import requests\n",
    "from datetime import datetime\n",
    "from sys import version_info\n",
    "from hashlib import md5\n",
    "\n",
    "\n",
    "load_dotenv()\n",
    "\n",
    "API_KEY = os.getenv('API_KEY')\n",
    "DEV_ID = os.getenv('DEV_ID')\n",
    "base_url = \"https://api.smitegame.com/smiteapi.svc\"\n",
    "platform = \"pc\"\n",
    "language = \"en\""
   ]
  },
  {
   "cell_type": "code",
   "execution_count": 2,
   "id": "866686c3",
   "metadata": {},
   "outputs": [
    {
     "data": {
      "text/plain": [
       "'\\nprint(hirez_api.data_used())\\nprint(hirez_api.server_status())\\nprint(hirez_api.patch_info())\\nprint(hirez_api.ping())\\nprint(hirez_api.test_session())\\n'"
      ]
     },
     "execution_count": 2,
     "metadata": {},
     "output_type": "execute_result"
    }
   ],
   "source": [
    "class HiRezAPI:\n",
    "    def __init__ (self, dev_id, auth_key, *args, **kw):\n",
    "        self.auth_key = auth_key;\n",
    "        self.dev_id = dev_id;\n",
    "        self.endpoint = kw.pop('endpoint', 'https://api.smitegame.com/smiteapi.svc') \n",
    "        self.headers = kw.pop('headers', {})\n",
    "        if 'user-agent' not in self.headers:\n",
    "            self.headers['user-agent'] = f'HiRezAPIWrapper [Python/{version_info.major}.{version_info.minor}]'\n",
    "\n",
    "    def request(self, url, *args, **kw):\n",
    "        r = requests.get(url=url, headers={**self.headers, **kw.pop('headers', {})}, *args, **kw)\n",
    "        if r.headers.get('Content-Type', '').rfind('json') != -1:\n",
    "            return r.json()\n",
    "        return r.text\n",
    "\n",
    "    def generate_signature(self, method, timestamp=None, *, encoding=None):\n",
    "        return md5(f'{self.dev_id}{method.lower()}{self.auth_key}{timestamp or self.timestamp()}'.encode(encoding or 'utf-8')).hexdigest()\n",
    "\n",
    "    def timestamp(self, _format=None):\n",
    "        return datetime.utcnow().strftime(_format or '%Y%m%d%H%M%S')\n",
    "\n",
    "    def create_session(self):\n",
    "        r = self.request(f'{self.endpoint}/createsessionjson/{self.dev_id}/{self.generate_signature(\"createsession\")}/{self.timestamp()}')\n",
    "        if r.get('ret_msg', '').lower() == 'approved':\n",
    "            self.session_id = r.get('session_id')\n",
    "\n",
    "    def ping(self):\n",
    "        return self.request(f'{self.endpoint}/pingjson')\n",
    "\n",
    "    def test_session(self, session_id=None):\n",
    "        return self.request(f'{self.endpoint}/testsessionjson/{self.dev_id}/{self.generate_signature(\"testsession\")}/{session_id or self.session_id}/{self.timestamp()}')\n",
    "\n",
    "    def data_used(self):\n",
    "        return self.request(f'{self.endpoint}/getdatausedjson/{self.dev_id}/{self.generate_signature(\"getdataused\")}/{self.session_id}/{self.timestamp()}')\n",
    "\n",
    "    def server_status(self):\n",
    "        return self.request(f'{self.endpoint}/gethirezserverstatusjson/{self.dev_id}/{self.generate_signature(\"gethirezserverstatus\")}/{self.session_id}/{self.timestamp()}')\n",
    "\n",
    "    def patch_info(self):\n",
    "        return self.request (f'{self.endpoint}/getpatchinfojson/{self.dev_id}/{self.generate_signature(\"getpatchinfo\")}/{self.session_id}/{self.timestamp()}')\n",
    "\n",
    "    def get_gods(self):\n",
    "        return self.request (f'{self.endpoint}/getgodsjson/{self.dev_id}/{self.generate_signature(\"getgods\")}/{self.session_id}/{self.timestamp()}/1')\n",
    "\n",
    "    def get_playeridbyname(self, name):\n",
    "        return self.request (f'{self.endpoint}/getplayeridbynamejson/{self.dev_id}/{self.generate_signature(\"getplayeridbyname\")}/{self.session_id}/{self.timestamp()}/{name}')\n",
    "    \n",
    "    def get_playerachievements(self, playerid):\n",
    "        return self.request (f'{self.endpoint}/getplayerachievementsjson/{self.dev_id}/{self.generate_signature(\"getplayerachievements\")}/{self.session_id}/{self.timestamp()}/{playerid}')\n",
    "    \n",
    "hirez_api = HiRezAPI(dev_id=4529, auth_key='F43736C8C21741D89BEACE9705CD437F')\n",
    "hirez_api.create_session()\n",
    "\"\"\"\n",
    "print(hirez_api.data_used())\n",
    "print(hirez_api.server_status())\n",
    "print(hirez_api.patch_info())\n",
    "print(hirez_api.ping())\n",
    "print(hirez_api.test_session())\n",
    "\"\"\""
   ]
  },
  {
   "cell_type": "code",
   "execution_count": 3,
   "id": "f006971a",
   "metadata": {},
   "outputs": [],
   "source": [
    "hirez_api.get_gods()"
   ]
  },
  {
   "cell_type": "code",
   "execution_count": 4,
   "id": "bac7c440",
   "metadata": {},
   "outputs": [],
   "source": [
    "player = hirez_api.get_playeridbyname(\"zapman\")"
   ]
  },
  {
   "cell_type": "code",
   "execution_count": 5,
   "id": "b9bf87d7",
   "metadata": {},
   "outputs": [
    {
     "data": {
      "text/plain": [
       "{'AssistedKills': 148525,\n",
       " 'CampsCleared': 26296,\n",
       " 'Deaths': 124007,\n",
       " 'DivineSpree': 532,\n",
       " 'DoubleKills': 10738,\n",
       " 'FireGiantKills': 2999,\n",
       " 'FirstBloods': 3707,\n",
       " 'GodLikeSpree': 61,\n",
       " 'GoldFuryKills': 6704,\n",
       " 'Id': 367737,\n",
       " 'ImmortalSpree': 166,\n",
       " 'KillingSpree': 11990,\n",
       " 'MinionKills': 3597610,\n",
       " 'Name': 'Zapman',\n",
       " 'PentaKills': 18,\n",
       " 'PhoenixKills': 4926,\n",
       " 'PlayerKills': 118230,\n",
       " 'QuadraKills': 165,\n",
       " 'RampageSpree': 3951,\n",
       " 'ShutdownSpree': 2286,\n",
       " 'SiegeJuggernautKills': 12,\n",
       " 'TowerKills': 24693,\n",
       " 'TripleKills': 1300,\n",
       " 'UnstoppableSpree': 1442,\n",
       " 'WildJuggernautKills': 7,\n",
       " 'ret_msg': None}"
      ]
     },
     "execution_count": 5,
     "metadata": {},
     "output_type": "execute_result"
    }
   ],
   "source": [
    "hirez_api.get_playerachievements(player[0]['player_id'])"
   ]
  },
  {
   "cell_type": "code",
   "execution_count": null,
   "id": "3e518c15",
   "metadata": {},
   "outputs": [],
   "source": []
  }
 ],
 "metadata": {
  "kernelspec": {
   "display_name": "Python 3 (ipykernel)",
   "language": "python",
   "name": "python3"
  },
  "language_info": {
   "codemirror_mode": {
    "name": "ipython",
    "version": 3
   },
   "file_extension": ".py",
   "mimetype": "text/x-python",
   "name": "python",
   "nbconvert_exporter": "python",
   "pygments_lexer": "ipython3",
   "version": "3.11.1"
  }
 },
 "nbformat": 4,
 "nbformat_minor": 5
}
